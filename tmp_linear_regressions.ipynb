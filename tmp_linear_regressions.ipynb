{
 "cells": [
  {
   "cell_type": "code",
   "execution_count": 2,
   "id": "fef4cc54-d1a3-45ae-8608-39a10acdf968",
   "metadata": {},
   "outputs": [],
   "source": [
    "import pandas as pd\n",
    "from sklearn.linear_model import LinearRegression"
   ]
  },
  {
   "cell_type": "code",
   "execution_count": 5,
   "id": "f3371123-502a-4e98-ba47-a227c531fbfb",
   "metadata": {},
   "outputs": [],
   "source": [
    "df = pd.read_csv(\"Data/Interpolated_soil_combined/combined_zones.csv\")\n",
    "\n",
    "rainfall = {2018: 350, \n",
    "            2019: 505,\n",
    "            2020: 481,\n",
    "            2022: 279}\n",
    "\n",
    "df['Rainfall'] = df['Year'].map(rainfall)\n",
    "\n",
    "df = df[['Longitude', 'Latitude',\n",
    "       'Yield', 'Moisture', 'PlotID', 'FieldID', 'TOC_0_2', 'IC_0_2', 'TN_0_2', \n",
    "                           'DI_Al_0_2', 'DI_Ca_0_2', 'DI_Fe_0_2', 'DI_K_0_2', 'DI_Mg_0_2', 'DI_P_0_2', \n",
    "                           'H3A_Al_0_2', 'H3A_Ca_0_2', 'H3A_Fe_0_2', 'H3A_K_0_2', 'H3A_Mg_0_2', 'H3A_P_0_2',\n",
    "                           'M3_Al_0_2', 'M3_Ca_0_2', 'M3_Fe_0_2', 'M3_K_0_2', 'M3_Mg_0_2', 'M3_P_0_2',\n",
    "                           'Ols_Al_0_2', 'Ols_Ca_0_2', 'Ols_Fe_0_2', 'Ols_K_0_2', 'Ols_Mg_0_2', 'Ols_P_0_2',\n",
    "                           'TOC_2_6', 'IC_2_6', 'TN_2_6',\n",
    "                           'DI_Al_2_6', 'DI_Ca_2_6', 'DI_Fe_2_6', 'DI_K_2_6', 'DI_Mg_2_6', 'DI_P_2_6', \n",
    "                           'H3A_Al_2_6', 'H3A_Ca_2_6', 'H3A_Fe_2_6', 'H3A_K_2_6', 'H3A_Mg_2_6', 'H3A_P_2_6', \n",
    "                           'M3_Al_2_6', 'M3_Ca_2_6', 'M3_Fe_2_6', 'M3_K_2_6', 'M3_Mg_2_6', 'M3_P_2_6',\n",
    "                           'Ols_Al_2_6', 'Ols_Ca_2_6', 'Ols_Fe_2_6', 'Ols_K_2_6', 'Ols_Mg_2_6', 'Ols_P_2_6',\n",
    "                           'Rainfall', 'PhosphorusTreatment']]\n",
    "\n",
    "#'TC_0_2', 'TC_2_6', 'elevation', 'slope','aspect', "
   ]
  },
  {
   "cell_type": "code",
   "execution_count": 6,
   "id": "ddf8723c-b90f-43e8-970e-5fc1b97747dc",
   "metadata": {},
   "outputs": [
    {
     "name": "stdout",
     "output_type": "stream",
     "text": [
      "Linear Regression Performance:\n",
      "R2: 0.49134307431006863\n",
      "Coefficients:\n",
      "{'TOC_0_2': 0.2510333118900384, 'IC_0_2': -0.6157322898545204, 'TN_0_2': 0.22807106728198015, 'DI_Al_0_2': 0.07128722766911537, 'DI_Ca_0_2': -0.003538872797234433, 'DI_Fe_0_2': 0.1420115942631086, 'DI_K_0_2': 0.034721725186988905, 'DI_Mg_0_2': -0.2336744323717187, 'DI_P_0_2': 2.82457405015763, 'H3A_Al_0_2': 0.2574534121556873, 'H3A_Ca_0_2': -0.020607527811143445, 'H3A_Fe_0_2': -1.8388621728341363, 'H3A_K_0_2': 0.2203410196926333, 'H3A_Mg_0_2': 0.02431780808717432, 'H3A_P_0_2': 0.0021799109713331877, 'M3_Al_0_2': -0.24972681459094748, 'M3_Ca_0_2': 0.07540132637974661, 'M3_Fe_0_2': 1.5944973606021338, 'M3_K_0_2': 0.04249849365235095, 'M3_Mg_0_2': -0.5450333255909565, 'M3_P_0_2': 0.31892404818441017, 'Ols_Al_0_2': 34.81407303853986, 'Ols_Ca_0_2': 0.055261057328594765, 'Ols_Fe_0_2': -17.057544615746345, 'Ols_K_0_2': -0.0648394041057086, 'Ols_Mg_0_2': 0.41356224738505576, 'Ols_P_0_2': -1.8774419829438465, 'TOC_2_6': 0.1937139127489873, 'IC_2_6': 0.4376257247393808, 'TN_2_6': -1.8712089164403607, 'DI_Al_2_6': 2.479065360538879e-05, 'DI_Ca_2_6': 0.004104163399238581, 'DI_Fe_2_6': -0.2388721728741986, 'DI_K_2_6': -0.21072951711401455, 'DI_Mg_2_6': 0.4844070991242653, 'DI_P_2_6': -4.408355363849975, 'H3A_Al_2_6': 0.23754272544841548, 'H3A_Ca_2_6': 0.0033703543242111778, 'H3A_Fe_2_6': -1.2826373358373189, 'H3A_K_2_6': 0.05230924099214196, 'H3A_Mg_2_6': 0.16902007641830918, 'H3A_P_2_6': 0.4027198798351588, 'M3_Al_2_6': 0.07540463484529525, 'M3_Ca_2_6': -0.04000380874921028, 'M3_Fe_2_6': -1.188883037259136, 'M3_K_2_6': 0.09962917772433766, 'M3_Mg_2_6': 0.3855225488978897, 'M3_P_2_6': -0.8351391231973082, 'Ols_Al_2_6': -13.233817872983995, 'Ols_Ca_2_6': -0.06745534487367522, 'Ols_Fe_2_6': 2.920459578472932, 'Ols_K_2_6': -0.24506445755586448, 'Ols_Mg_2_6': 0.10984980165564373, 'Ols_P_2_6': 2.443373132263233, 'Rainfall': 0.2746170682443587, 'PhosphorusTreatment': 0.43209548678786014}\n"
     ]
    }
   ],
   "source": [
    "# Subset data \n",
    "# temp_data = data[(data['FieldID'] == '16A') & (data['Year'] == 2018)]\n",
    "\n",
    "# Get predictor columns\n",
    "predictors = ['TOC_0_2', 'IC_0_2', 'TN_0_2', \n",
    "                           'DI_Al_0_2', 'DI_Ca_0_2', 'DI_Fe_0_2', 'DI_K_0_2', 'DI_Mg_0_2', 'DI_P_0_2', \n",
    "                           'H3A_Al_0_2', 'H3A_Ca_0_2', 'H3A_Fe_0_2', 'H3A_K_0_2', 'H3A_Mg_0_2', 'H3A_P_0_2',\n",
    "                           'M3_Al_0_2', 'M3_Ca_0_2', 'M3_Fe_0_2', 'M3_K_0_2', 'M3_Mg_0_2', 'M3_P_0_2',\n",
    "                           'Ols_Al_0_2', 'Ols_Ca_0_2', 'Ols_Fe_0_2', 'Ols_K_0_2', 'Ols_Mg_0_2', 'Ols_P_0_2',\n",
    "                           'TOC_2_6', 'IC_2_6', 'TN_2_6',\n",
    "                           'DI_Al_2_6', 'DI_Ca_2_6', 'DI_Fe_2_6', 'DI_K_2_6', 'DI_Mg_2_6', 'DI_P_2_6', \n",
    "                           'H3A_Al_2_6', 'H3A_Ca_2_6', 'H3A_Fe_2_6', 'H3A_K_2_6', 'H3A_Mg_2_6', 'H3A_P_2_6', \n",
    "                           'M3_Al_2_6', 'M3_Ca_2_6', 'M3_Fe_2_6', 'M3_K_2_6', 'M3_Mg_2_6', 'M3_P_2_6',\n",
    "                           'Ols_Al_2_6', 'Ols_Ca_2_6', 'Ols_Fe_2_6', 'Ols_K_2_6', 'Ols_Mg_2_6', 'Ols_P_2_6',\n",
    "                           'Rainfall', 'PhosphorusTreatment']\n",
    "\n",
    "# Setup regression\n",
    "X = df[predictors] \n",
    "y = df['Yield']\n",
    "\n",
    "reg = LinearRegression()\n",
    "reg.fit(X, y)\n",
    "\n",
    "# Print metrics\n",
    "print(\"Linear Regression Performance:\")\n",
    "print(\"R2:\", reg.score(X, y))\n",
    "print(\"Coefficients:\")\n",
    "print(dict(zip(predictors, reg.coef_)))"
   ]
  }
 ],
 "metadata": {
  "kernelspec": {
   "display_name": "Python 3 (ipykernel)",
   "language": "python",
   "name": "python3"
  },
  "language_info": {
   "codemirror_mode": {
    "name": "ipython",
    "version": 3
   },
   "file_extension": ".py",
   "mimetype": "text/x-python",
   "name": "python",
   "nbconvert_exporter": "python",
   "pygments_lexer": "ipython3",
   "version": "3.11.4"
  }
 },
 "nbformat": 4,
 "nbformat_minor": 5
}
