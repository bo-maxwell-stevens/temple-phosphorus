{
 "cells": [
  {
   "cell_type": "code",
   "execution_count": 1,
   "id": "fef4cc54-d1a3-45ae-8608-39a10acdf968",
   "metadata": {},
   "outputs": [],
   "source": [
    "import pandas as pd\n",
    "from sklearn.linear_model import LinearRegression"
   ]
  },
  {
   "cell_type": "code",
   "execution_count": 2,
   "id": "f3371123-502a-4e98-ba47-a227c531fbfb",
   "metadata": {},
   "outputs": [],
   "source": [
    "df = pd.read_csv(\"../Data/Interpolated_soil_combined/combined.csv\")\n",
    "\n",
    "rainfall = {2018: 350, \n",
    "            2019: 505,\n",
    "            2020: 481,\n",
    "            2022: 279}\n",
    "\n",
    "df['Rainfall'] = df['Year'].map(rainfall)\n",
    "\n",
    "df = df[['OID_', 'Join_Count', 'TARGET_FID', 'Longitude', 'Latitude',\n",
    "       'Yield', 'Moisture', 'PlotID', 'FieldID', 'TOC_0_2', 'IC_0_2', 'TN_0_2', \n",
    "                           'DI_Al_0_2', 'DI_Ca_0_2', 'DI_Fe_0_2', 'DI_K_0_2', 'DI_Mg_0_2', 'DI_P_0_2', \n",
    "                           'H3A_Al_0_2', 'H3A_Ca_0_2', 'H3A_Fe_0_2', 'H3A_K_0_2', 'H3A_Mg_0_2', 'H3A_P_0_2',\n",
    "                           'M3_Al_0_2', 'M3_Ca_0_2', 'M3_Fe_0_2', 'M3_K_0_2', 'M3_Mg_0_2', 'M3_P_0_2',\n",
    "                           'Ols_Al_0_2', 'Ols_Ca_0_2', 'Ols_Fe_0_2', 'Ols_K_0_2', 'Ols_Mg_0_2', 'Ols_P_0_2',\n",
    "                           'TOC_2_6', 'IC_2_6', 'TN_2_6',\n",
    "                           'DI_Al_2_6', 'DI_Ca_2_6', 'DI_Fe_2_6', 'DI_K_2_6', 'DI_Mg_2_6', 'DI_P_2_6', \n",
    "                           'H3A_Al_2_6', 'H3A_Ca_2_6', 'H3A_Fe_2_6', 'H3A_K_2_6', 'H3A_Mg_2_6', 'H3A_P_2_6', \n",
    "                           'M3_Al_2_6', 'M3_Ca_2_6', 'M3_Fe_2_6', 'M3_K_2_6', 'M3_Mg_2_6', 'M3_P_2_6',\n",
    "                           'Ols_Al_2_6', 'Ols_Ca_2_6', 'Ols_Fe_2_6', 'Ols_K_2_6', 'Ols_Mg_2_6', 'Ols_P_2_6',\n",
    "                           'Rainfall', 'PhosphorusTreatment']]\n",
    "\n",
    "#'TC_0_2', 'TC_2_6', 'elevation', 'slope','aspect', "
   ]
  },
  {
   "cell_type": "code",
   "execution_count": 6,
   "id": "ddf8723c-b90f-43e8-970e-5fc1b97747dc",
   "metadata": {},
   "outputs": [
    {
     "name": "stdout",
     "output_type": "stream",
     "text": [
      "Linear Regression Performance:\n",
      "R2: 0.4913430740583544\n",
      "Coefficients:\n",
      "{'TOC_0_2': 0.2510333263257052, 'IC_0_2': -0.6157322262344684, 'TN_0_2': 0.22807107326901585, 'DI_Al_0_2': 0.07128722891429648, 'DI_Ca_0_2': -0.0035388673743701566, 'DI_Fe_0_2': 0.1420115710341075, 'DI_K_0_2': 0.03472172326838113, 'DI_Mg_0_2': -0.2336744635493147, 'DI_P_0_2': 2.824574404846484, 'H3A_Al_0_2': 0.25745342895068746, 'H3A_Ca_0_2': -0.02060753136118193, 'H3A_Fe_0_2': -1.8388623780852191, 'H3A_K_0_2': 0.22034101286938648, 'H3A_Mg_0_2': 0.02431781105361927, 'H3A_P_0_2': 0.002179923823998009, 'M3_Al_0_2': -0.24972682258218282, 'M3_Ca_0_2': 0.075401319851914, 'M3_Fe_0_2': 1.5944973599833863, 'M3_K_0_2': 0.042498488446788885, 'M3_Mg_0_2': -0.5450333199674466, 'M3_P_0_2': 0.318924021257136, 'Ols_Al_0_2': 34.814066272156396, 'Ols_Ca_0_2': 0.05526106340186371, 'Ols_Fe_0_2': -17.057540195466242, 'Ols_K_0_2': -0.06483940598355034, 'Ols_Mg_0_2': 0.41356221189471987, 'Ols_P_0_2': -1.8774420331937738, 'TOC_2_6': 0.19371391015737627, 'IC_2_6': 0.43762572623656093, 'TN_2_6': -1.8712089236234233, 'DI_Al_2_6': 2.4781261310447e-05, 'DI_Ca_2_6': 0.00410416180509332, 'DI_Fe_2_6': -0.23887212649221579, 'DI_K_2_6': -0.21072951857346922, 'DI_Mg_2_6': 0.4844070963034781, 'DI_P_2_6': -4.4083557580442445, 'H3A_Al_2_6': 0.23754266713450356, 'H3A_Ca_2_6': 0.00337035501168792, 'H3A_Fe_2_6': -1.2826369372019344, 'H3A_K_2_6': 0.052309261423727715, 'H3A_Mg_2_6': 0.16902009164689558, 'H3A_P_2_6': 0.40271985708935176, 'M3_Al_2_6': 0.07540464671965452, 'M3_Ca_2_6': -0.04000380438635931, 'M3_Fe_2_6': -1.1888830642693629, 'M3_K_2_6': 0.09962917246665182, 'M3_Mg_2_6': 0.3855225513109275, 'M3_P_2_6': -0.8351390811783546, 'Ols_Al_2_6': -13.233809194241779, 'Ols_Ca_2_6': -0.06745534989566382, 'Ols_Fe_2_6': 2.920453267897437, 'Ols_K_2_6': -0.24506445071283345, 'Ols_Mg_2_6': 0.10984981945095029, 'Ols_P_2_6': 2.4433731182234975, 'Rainfall': 0.2746170682820397, 'PhosphorusTreatment': 0.43209548501597084}\n"
     ]
    }
   ],
   "source": [
    "# Subset data \n",
    "# temp_data = data[(data['FieldID'] == '16A') & (data['Year'] == 2018)]\n",
    "\n",
    "# Get predictor columns\n",
    "predictors = ['TOC_0_2', 'IC_0_2', 'TN_0_2', \n",
    "                           'DI_Al_0_2', 'DI_Ca_0_2', 'DI_Fe_0_2', 'DI_K_0_2', 'DI_Mg_0_2', 'DI_P_0_2', \n",
    "                           'H3A_Al_0_2', 'H3A_Ca_0_2', 'H3A_Fe_0_2', 'H3A_K_0_2', 'H3A_Mg_0_2', 'H3A_P_0_2',\n",
    "                           'M3_Al_0_2', 'M3_Ca_0_2', 'M3_Fe_0_2', 'M3_K_0_2', 'M3_Mg_0_2', 'M3_P_0_2',\n",
    "                           'Ols_Al_0_2', 'Ols_Ca_0_2', 'Ols_Fe_0_2', 'Ols_K_0_2', 'Ols_Mg_0_2', 'Ols_P_0_2',\n",
    "                           'TOC_2_6', 'IC_2_6', 'TN_2_6',\n",
    "                           'DI_Al_2_6', 'DI_Ca_2_6', 'DI_Fe_2_6', 'DI_K_2_6', 'DI_Mg_2_6', 'DI_P_2_6', \n",
    "                           'H3A_Al_2_6', 'H3A_Ca_2_6', 'H3A_Fe_2_6', 'H3A_K_2_6', 'H3A_Mg_2_6', 'H3A_P_2_6', \n",
    "                           'M3_Al_2_6', 'M3_Ca_2_6', 'M3_Fe_2_6', 'M3_K_2_6', 'M3_Mg_2_6', 'M3_P_2_6',\n",
    "                           'Ols_Al_2_6', 'Ols_Ca_2_6', 'Ols_Fe_2_6', 'Ols_K_2_6', 'Ols_Mg_2_6', 'Ols_P_2_6',\n",
    "                           'Rainfall', 'PhosphorusTreatment']\n",
    "\n",
    "# Setup regression\n",
    "X = df[predictors] \n",
    "y = df['Yield']\n",
    "\n",
    "reg = LinearRegression()\n",
    "reg.fit(X, y)\n",
    "\n",
    "# Print metrics\n",
    "print(\"Linear Regression Performance:\")\n",
    "print(\"R2:\", reg.score(X, y))\n",
    "print(\"Coefficients:\")\n",
    "print(dict(zip(predictors, reg.coef_)))"
   ]
  }
 ],
 "metadata": {
  "kernelspec": {
   "display_name": "Python 3 (ipykernel)",
   "language": "python",
   "name": "python3"
  },
  "language_info": {
   "codemirror_mode": {
    "name": "ipython",
    "version": 3
   },
   "file_extension": ".py",
   "mimetype": "text/x-python",
   "name": "python",
   "nbconvert_exporter": "python",
   "pygments_lexer": "ipython3",
   "version": "3.11.4"
  }
 },
 "nbformat": 4,
 "nbformat_minor": 5
}
