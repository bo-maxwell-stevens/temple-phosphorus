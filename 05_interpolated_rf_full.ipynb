{
 "cells": [
  {
   "cell_type": "code",
   "execution_count": 9,
   "id": "c756beea",
   "metadata": {},
   "outputs": [],
   "source": [
    "import json\n",
    "import pandas as pd\n",
    "import numpy as np\n",
    "import matplotlib.pyplot as plt\n",
    "from sklearn.ensemble import RandomForestRegressor\n",
    "from sklearn.metrics import mean_squared_error, r2_score\n",
    "from sklearn.model_selection import GridSearchCV, train_test_split"
   ]
  },
  {
   "cell_type": "code",
   "execution_count": 3,
   "id": "b709b855",
   "metadata": {},
   "outputs": [],
   "source": [
    "df = pd.read_csv(\"Data/Interpolated_soil_combined/combined_zones.csv\")\n",
    "\n",
    "# Define the function that will assign the soil test\n",
    "def assign_soil_test(field_id):\n",
    "    if field_id in ['16A', '6-12', 'SW16']:\n",
    "        return 'Mehlich'\n",
    "    elif field_id in ['Y10', 'Y8']:\n",
    "        return 'Haney'\n",
    "    else:\n",
    "        return None  # or some default value\n",
    "\n",
    "# Create the new column\n",
    "df['Soil_Test'] = df['FieldID'].apply(assign_soil_test)\n",
    "\n",
    "rainfall = {2018: 350, \n",
    "            2019: 505,\n",
    "            2020: 481,\n",
    "            2022: 279}\n",
    "\n",
    "df['Rainfall'] = df['Year'].map(rainfall)\n",
    "\n",
    "df = df[['Longitude', 'Latitude',\n",
    "       'Yield', 'Moisture', 'PlotID', 'FieldID', 'TOC_0_2', 'IC_0_2', 'TN_0_2', \n",
    "                           'DI_Al_0_2', 'DI_Ca_0_2', 'DI_Fe_0_2', 'DI_K_0_2', 'DI_Mg_0_2', 'DI_P_0_2', \n",
    "                           'H3A_Al_0_2', 'H3A_Ca_0_2', 'H3A_Fe_0_2', 'H3A_K_0_2', 'H3A_Mg_0_2', 'H3A_P_0_2',\n",
    "                           'M3_Al_0_2', 'M3_Ca_0_2', 'M3_Fe_0_2', 'M3_K_0_2', 'M3_Mg_0_2', 'M3_P_0_2',\n",
    "                           'Ols_Al_0_2', 'Ols_Ca_0_2', 'Ols_Fe_0_2', 'Ols_K_0_2', 'Ols_Mg_0_2', 'Ols_P_0_2',\n",
    "                           'TOC_2_6', 'IC_2_6', 'TN_2_6',\n",
    "                           'DI_Al_2_6', 'DI_Ca_2_6', 'DI_Fe_2_6', 'DI_K_2_6', 'DI_Mg_2_6', 'DI_P_2_6', \n",
    "                           'H3A_Al_2_6', 'H3A_Ca_2_6', 'H3A_Fe_2_6', 'H3A_K_2_6', 'H3A_Mg_2_6', 'H3A_P_2_6', \n",
    "                           'M3_Al_2_6', 'M3_Ca_2_6', 'M3_Fe_2_6', 'M3_K_2_6', 'M3_Mg_2_6', 'M3_P_2_6',\n",
    "                           'Ols_Al_2_6', 'Ols_Ca_2_6', 'Ols_Fe_2_6', 'Ols_K_2_6', 'Ols_Mg_2_6', 'Ols_P_2_6',\n",
    "                           'Rainfall', 'PhosphorusTreatment',\n",
    "        'Zone_1', 'Zone_2', 'Zone_3', 'Zone_4']]\n",
    "\n",
    "#'TC_0_2', 'TC_2_6', 'elevation', 'slope','aspect', "
   ]
  },
  {
   "cell_type": "code",
   "execution_count": 4,
   "id": "5cdbfef7",
   "metadata": {},
   "outputs": [
    {
     "data": {
      "text/plain": [
       "['best_model_Full_model.joblib']"
      ]
     },
     "execution_count": 4,
     "metadata": {},
     "output_type": "execute_result"
    }
   ],
   "source": [
    "# Define your features and the column to predict\n",
    "feature_cols = df.columns[df.columns.get_loc('TOC_0_2'):]\n",
    "output_col = 'Yield'\n",
    "\n",
    "# Define the grid of parameters to search\n",
    "param_grid = {\n",
    "    'n_estimators': [100, 200, 300],\n",
    "    'max_features': ['sqrt'],\n",
    "    'max_depth': [10, 20, 30, None],\n",
    "    'min_samples_split': [2, 5, 10],\n",
    "    'min_samples_leaf': [1, 2, 4],\n",
    "    'bootstrap': [True, False]\n",
    "}\n",
    "\n",
    "# For each year and soil test, train a random forest and save the model and results\n",
    "X = df[feature_cols]\n",
    "y = df[output_col]\n",
    "\n",
    "# Create train and test sets\n",
    "X_train, X_test, y_train, y_test = train_test_split(X, y, test_size=0.2, random_state=42)\n",
    "\n",
    "# Initialize and fit model\n",
    "rf = RandomForestRegressor()\n",
    "grid_search = GridSearchCV(rf, param_grid, cv=5)\n",
    "grid_search.fit(X_train, y_train)\n",
    "\n",
    "# Get best model\n",
    "best_model = grid_search.best_estimator_\n",
    "\n",
    "# Compute metrics on test set\n",
    "y_pred = best_model.predict(X_test)\n",
    "mse = mean_squared_error(y_test, y_pred)\n",
    "r2 = r2_score(y_test, y_pred)\n",
    "\n",
    "# Save results\n",
    "results = {\n",
    "    'model_name': f'Full_model',\n",
    "    'num_input_params': len(feature_cols),\n",
    "    'r2': r2,\n",
    "    'mse': mse,\n",
    "    'features_importances': {feature: importance for feature, importance in zip(feature_cols, best_model.feature_importances_)},\n",
    "}\n",
    "# Save as JSON\n",
    "with open('Output/Models/rainfall_rf_model_results.json', 'w') as f:\n",
    "  json.dump(results, f)"
   ]
  },
  {
   "cell_type": "code",
   "execution_count": 6,
   "id": "10c5fa92-2199-439c-aca9-c7d777322037",
   "metadata": {},
   "outputs": [],
   "source": [
    "# Write code to read in best param files and perform random forest\n",
    "# Get best model\n",
    "# Load model\n",
    "best_model = load('Output/Models/best_model_Full_model.joblib')\n",
    "\n",
    "# Get best parameters\n",
    "best_params = best_model.get_params()\n",
    "\n",
    "feature_cols = df.columns[df.columns.get_loc('TOC_0_2'):]\n",
    "output_col = 'Yield'\n",
    "\n",
    "# For each year and soil test, train a random forest and save the model and results\n",
    "X = df[feature_cols]\n",
    "y = df[output_col]\n",
    "\n",
    "# Create train and test sets\n",
    "X_train, X_test, y_train, y_test = train_test_split(X, y, test_size=0.2, random_state=42)\n",
    "\n",
    "# Compute metrics on test set\n",
    "y_pred = best_model.predict(X_test)\n",
    "mse = mean_squared_error(y_test, y_pred)\n",
    "r2 = r2_score(y_test, y_pred)\n",
    "\n",
    "# Save results\n",
    "results = {\n",
    "    'model_name': f'Full_model',\n",
    "    'num_input_params': len(feature_cols),\n",
    "    'r2': r2,\n",
    "    'mse': mse,\n",
    "    'features_importances': {feature: importance for feature, importance in zip(feature_cols, best_model.feature_importances_)},\n",
    "}"
   ]
  },
  {
   "cell_type": "code",
   "execution_count": 11,
   "id": "68804477-d8c7-4a74-8b42-a8d928543d04",
   "metadata": {},
   "outputs": [],
   "source": [
    "# Open JSON file\n",
    "with open('Output/Models/rainfall_rf_model_results.json', 'r') as f:\n",
    "  results = json.load(f)"
   ]
  },
  {
   "cell_type": "code",
   "execution_count": 12,
   "id": "1d0fb904-0215-4cfa-87e0-c48923964288",
   "metadata": {},
   "outputs": [
    {
     "data": {
      "text/plain": [
       "{'model_name': 'Full_model',\n",
       " 'num_input_params': 60,\n",
       " 'r2': 0.8865036735240885,\n",
       " 'mse': 195.82341644875433,\n",
       " 'features_importances': {'TOC_0_2': 0.005827177980144972,\n",
       "  'IC_0_2': 0.008363083576724684,\n",
       "  'TN_0_2': 0.0059911211232614005,\n",
       "  'DI_Al_0_2': 0.004419378284654296,\n",
       "  'DI_Ca_0_2': 0.0053555546964036155,\n",
       "  'DI_Fe_0_2': 0.004322760720884275,\n",
       "  'DI_K_0_2': 0.004609431328310892,\n",
       "  'DI_Mg_0_2': 0.004091534667906089,\n",
       "  'DI_P_0_2': 0.003700073059937004,\n",
       "  'H3A_Al_0_2': 0.00613389735014408,\n",
       "  'H3A_Ca_0_2': 0.004518177287128801,\n",
       "  'H3A_Fe_0_2': 0.018812413903013678,\n",
       "  'H3A_K_0_2': 0.004751324539084814,\n",
       "  'H3A_Mg_0_2': 0.006543992087198581,\n",
       "  'H3A_P_0_2': 0.005613744440193842,\n",
       "  'M3_Al_0_2': 0.01446582283530297,\n",
       "  'M3_Ca_0_2': 0.02171987269424942,\n",
       "  'M3_Fe_0_2': 0.015974837030354957,\n",
       "  'M3_K_0_2': 0.005875363832229931,\n",
       "  'M3_Mg_0_2': 0.005316611951095211,\n",
       "  'M3_P_0_2': 0.004574998091265745,\n",
       "  'Ols_Al_0_2': 0.004078676256882419,\n",
       "  'Ols_Ca_0_2': 0.008047999339344275,\n",
       "  'Ols_Fe_0_2': 0.006426089242726688,\n",
       "  'Ols_K_0_2': 0.005607038551056484,\n",
       "  'Ols_Mg_0_2': 0.007480407583010646,\n",
       "  'Ols_P_0_2': 0.005127075891472937,\n",
       "  'TOC_2_6': 0.0048521483005230055,\n",
       "  'IC_2_6': 0.012673655953494753,\n",
       "  'TN_2_6': 0.005801994661738344,\n",
       "  'DI_Al_2_6': 0.004188265721016735,\n",
       "  'DI_Ca_2_6': 0.004794009189935365,\n",
       "  'DI_Fe_2_6': 0.004078055118699177,\n",
       "  'DI_K_2_6': 0.004518108794369236,\n",
       "  'DI_Mg_2_6': 0.009816071638431801,\n",
       "  'DI_P_2_6': 0.004664103727906398,\n",
       "  'H3A_Al_2_6': 0.005828457650465524,\n",
       "  'H3A_Ca_2_6': 0.006080866057725743,\n",
       "  'H3A_Fe_2_6': 0.0191364500727352,\n",
       "  'H3A_K_2_6': 0.004565548330455735,\n",
       "  'H3A_Mg_2_6': 0.00472003997435933,\n",
       "  'H3A_P_2_6': 0.004809419673900658,\n",
       "  'M3_Al_2_6': 0.012635768941671717,\n",
       "  'M3_Ca_2_6': 0.013823246357674434,\n",
       "  'M3_Fe_2_6': 0.025919379408278077,\n",
       "  'M3_K_2_6': 0.004167557581685953,\n",
       "  'M3_Mg_2_6': 0.007715018916547539,\n",
       "  'M3_P_2_6': 0.005780339474159039,\n",
       "  'Ols_Al_2_6': 0.004562750051390791,\n",
       "  'Ols_Ca_2_6': 0.014765408977065634,\n",
       "  'Ols_Fe_2_6': 0.0048865838059111615,\n",
       "  'Ols_K_2_6': 0.005342368756642478,\n",
       "  'Ols_Mg_2_6': 0.011219124170539453,\n",
       "  'Ols_P_2_6': 0.012135804467025675,\n",
       "  'Rainfall': 0.5628174915577344,\n",
       "  'PhosphorusTreatment': 0.008468811593711921,\n",
       "  'Zone_1': 0.0029882217950616017,\n",
       "  'Zone_2': 0.00010589219288174627,\n",
       "  'Zone_3': 0.00035259965322340006,\n",
       "  'Zone_4': 0.004037979089055371}}"
      ]
     },
     "execution_count": 12,
     "metadata": {},
     "output_type": "execute_result"
    }
   ],
   "source": [
    "results"
   ]
  },
  {
   "cell_type": "code",
   "execution_count": 13,
   "id": "4fd3aeb5-0ba4-46a2-ad05-24f895caf5d1",
   "metadata": {},
   "outputs": [
    {
     "data": {
      "text/plain": [
       "0.49893977378954424"
      ]
     },
     "execution_count": 13,
     "metadata": {},
     "output_type": "execute_result"
    }
   ],
   "source": [
    "results['r2']*results['features_importances']['Rainfall']"
   ]
  },
  {
   "cell_type": "code",
   "execution_count": 14,
   "id": "c902f777-a0d0-4652-ac3a-407b15f4f183",
   "metadata": {},
   "outputs": [
    {
     "data": {
      "text/plain": [
       "0.0075076325882090095"
      ]
     },
     "execution_count": 14,
     "metadata": {},
     "output_type": "execute_result"
    }
   ],
   "source": [
    "results['r2']*results['features_importances']['PhosphorusTreatment']"
   ]
  },
  {
   "cell_type": "code",
   "execution_count": 28,
   "id": "13532b26-afb6-4ac9-bb93-32d11fc205bf",
   "metadata": {},
   "outputs": [],
   "source": [
    "# # Define a dictionary mapping the 'Year' to the corresponding mean temp (°C) value\n",
    "# temp_data = {2018: 34.0, 2019: 28.2, 2020: 30.5, 2022: 34.4}\n",
    "\n",
    "# # Use the 'Year' column to map the corresponding 'Rainfall' value and create a new column\n",
    "# df['Temp'] = df['Year'].map(temp_data)"
   ]
  }
 ],
 "metadata": {
  "kernelspec": {
   "display_name": "Python 3 (ipykernel)",
   "language": "python",
   "name": "python3"
  },
  "language_info": {
   "codemirror_mode": {
    "name": "ipython",
    "version": 3
   },
   "file_extension": ".py",
   "mimetype": "text/x-python",
   "name": "python",
   "nbconvert_exporter": "python",
   "pygments_lexer": "ipython3",
   "version": "3.11.4"
  }
 },
 "nbformat": 4,
 "nbformat_minor": 5
}
